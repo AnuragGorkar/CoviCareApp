{
 "cells": [
  {
   "cell_type": "code",
   "execution_count": null,
   "id": "d0838964",
   "metadata": {},
   "outputs": [],
   "source": [
    "#!pip install tf-nightly\n",
    "#Install and restart kernel"
   ]
  },
  {
   "cell_type": "code",
   "execution_count": 1,
   "id": "third-aside",
   "metadata": {
    "_cell_guid": "e4a5e289-af52-44af-a09c-b5ff91717c51",
    "_uuid": "95737685-6a21-441c-b328-5e625f33e609",
    "execution": {
     "iopub.execute_input": "2022-02-26T10:51:45.443094Z",
     "iopub.status.busy": "2022-02-26T10:51:45.442375Z",
     "iopub.status.idle": "2022-02-26T10:51:50.789177Z",
     "shell.execute_reply": "2022-02-26T10:51:50.788180Z",
     "shell.execute_reply.started": "2022-02-26T08:55:30.873080Z"
    },
    "jupyter": {
     "outputs_hidden": false
    },
    "papermill": {
     "duration": 5.380733,
     "end_time": "2022-02-26T10:51:50.789368",
     "exception": false,
     "start_time": "2022-02-26T10:51:45.408635",
     "status": "completed"
    },
    "tags": []
   },
   "outputs": [],
   "source": [
    "import tensorflow as tf\n",
    "from tensorflow import keras\n",
    "from tensorflow.keras.optimizers import Adam\n",
    "from tensorflow.keras.preprocessing.image import ImageDataGenerator\n",
    "import numpy as np\n",
    "import pandas as pd\n",
    "import time\n",
    "import glob\n",
    "from sklearn.model_selection import train_test_split\n",
    "import matplotlib.pyplot as plt\n",
    "from matplotlib.pyplot import imshow\n",
    "import os\n",
    "import PIL\n",
    "import cv2\n",
    "import shutil\n",
    "from sklearn.metrics import confusion_matrix, classification_report\n",
    "from tqdm import tqdm"
   ]
  },
  {
   "cell_type": "code",
   "execution_count": 2,
   "id": "polish-buying",
   "metadata": {
    "_cell_guid": "6936eefa-e0f0-4a4d-af74-281a9852cb39",
    "_uuid": "d92d495d-6d4b-4726-baff-59eae3f2a653",
    "execution": {
     "iopub.execute_input": "2022-02-26T10:51:50.834427Z",
     "iopub.status.busy": "2022-02-26T10:51:50.833747Z",
     "iopub.status.idle": "2022-02-26T10:51:50.917285Z",
     "shell.execute_reply": "2022-02-26T10:51:50.916820Z",
     "shell.execute_reply.started": "2022-02-26T08:55:33.454910Z"
    },
    "jupyter": {
     "outputs_hidden": false
    },
    "papermill": {
     "duration": 0.109872,
     "end_time": "2022-02-26T10:51:50.917455",
     "exception": false,
     "start_time": "2022-02-26T10:51:50.807583",
     "status": "completed"
    },
    "tags": []
   },
   "outputs": [],
   "source": [
    "train_df = pd.read_csv('../input/covidx-cxr2/train.txt', sep=\" \", header=None)\n",
    "train_df.columns=['patient id', 'file_paths', 'labels', 'data source']\n",
    "train_df=train_df.drop(['patient id', 'data source'], axis=1 )"
   ]
  },
  {
   "cell_type": "code",
   "execution_count": 3,
   "id": "parental-monday",
   "metadata": {
    "_cell_guid": "5623acfb-21b2-42df-8537-8b5e2bdd0bfe",
    "_uuid": "ca61b5d2-0fcf-4ef3-97cd-721db33608f0",
    "execution": {
     "iopub.execute_input": "2022-02-26T10:51:50.961683Z",
     "iopub.status.busy": "2022-02-26T10:51:50.961094Z",
     "iopub.status.idle": "2022-02-26T10:51:50.970432Z",
     "shell.execute_reply": "2022-02-26T10:51:50.969961Z",
     "shell.execute_reply.started": "2022-02-26T08:55:33.516743Z"
    },
    "jupyter": {
     "outputs_hidden": false
    },
    "papermill": {
     "duration": 0.033772,
     "end_time": "2022-02-26T10:51:50.970555",
     "exception": false,
     "start_time": "2022-02-26T10:51:50.936783",
     "status": "completed"
    },
    "tags": []
   },
   "outputs": [],
   "source": [
    "test_df = pd.read_csv('../input/covidx-cxr2/test.txt', sep=\" \", header=None)\n",
    "test_df.columns=['id', 'file_paths', 'labels', 'data source' ]\n",
    "test_df=test_df.drop(['id', 'data source'], axis=1 )"
   ]
  },
  {
   "cell_type": "code",
   "execution_count": 4,
   "id": "otherwise-referral",
   "metadata": {
    "_cell_guid": "79222d42-63b4-41c5-9878-6eef1aad451f",
    "_uuid": "cbd376cb-b9d7-4dc8-8b8c-fcfab602c8d7",
    "execution": {
     "iopub.execute_input": "2022-02-26T10:51:51.014853Z",
     "iopub.status.busy": "2022-02-26T10:51:51.014038Z",
     "iopub.status.idle": "2022-02-26T10:51:51.043911Z",
     "shell.execute_reply": "2022-02-26T10:51:51.043140Z",
     "shell.execute_reply.started": "2022-02-26T08:55:33.531591Z"
    },
    "jupyter": {
     "outputs_hidden": false
    },
    "papermill": {
     "duration": 0.055012,
     "end_time": "2022-02-26T10:51:51.044041",
     "exception": false,
     "start_time": "2022-02-26T10:51:50.989029",
     "status": "completed"
    },
    "tags": []
   },
   "outputs": [],
   "source": [
    "file_count = 2158\n",
    "samples = []\n",
    "for category in train_df['labels'].unique():    \n",
    "    category_slice = train_df.query(\"labels == @category\")    \n",
    "    samples.append(category_slice.sample(file_count, replace=False,random_state=1))\n",
    "train_df = pd.concat(samples, axis=0).sample(frac=1.0, random_state=1).reset_index(drop=True)"
   ]
  },
  {
   "cell_type": "code",
   "execution_count": 5,
   "id": "loving-entertainment",
   "metadata": {
    "_cell_guid": "566f8f46-b3dd-42dc-aef1-c6a715d9049f",
    "_uuid": "90e19479-5123-4c2b-8ad3-6b868d7bff9b",
    "execution": {
     "iopub.execute_input": "2022-02-26T10:51:51.085392Z",
     "iopub.status.busy": "2022-02-26T10:51:51.084267Z",
     "iopub.status.idle": "2022-02-26T10:51:51.087942Z",
     "shell.execute_reply": "2022-02-26T10:51:51.087531Z",
     "shell.execute_reply.started": "2022-02-26T08:55:48.097887Z"
    },
    "jupyter": {
     "outputs_hidden": false
    },
    "papermill": {
     "duration": 0.026299,
     "end_time": "2022-02-26T10:51:51.088059",
     "exception": false,
     "start_time": "2022-02-26T10:51:51.061760",
     "status": "completed"
    },
    "tags": []
   },
   "outputs": [],
   "source": [
    "train_df, valid_df = train_test_split(train_df, train_size=0.7, random_state=0)"
   ]
  },
  {
   "cell_type": "code",
   "execution_count": 6,
   "id": "traditional-mitchell",
   "metadata": {
    "_cell_guid": "c7ed4ed7-d9f5-4ee5-a7ec-0e8a408e99d8",
    "_uuid": "689d96a7-f959-4bff-8c96-fa858f6586f9",
    "execution": {
     "iopub.execute_input": "2022-02-26T10:51:51.127629Z",
     "iopub.status.busy": "2022-02-26T10:51:51.126820Z",
     "iopub.status.idle": "2022-02-26T10:51:51.312526Z",
     "shell.execute_reply": "2022-02-26T10:51:51.312005Z",
     "shell.execute_reply.started": "2022-02-26T08:55:48.822045Z"
    },
    "jupyter": {
     "outputs_hidden": false
    },
    "papermill": {
     "duration": 0.207038,
     "end_time": "2022-02-26T10:51:51.312667",
     "exception": false,
     "start_time": "2022-02-26T10:51:51.105629",
     "status": "completed"
    },
    "tags": []
   },
   "outputs": [],
   "source": [
    "train_path = '../input/covidx-cxr2/train/'\n",
    "train_df['path_new_final'] = train_df.apply(lambda row : train_path + row['file_paths'], axis=1)"
   ]
  },
  {
   "cell_type": "code",
   "execution_count": 7,
   "id": "sound-medicine",
   "metadata": {
    "_cell_guid": "4e317aed-9461-472c-87bf-25d28bd1dd2f",
    "_uuid": "0c47c663-3576-4b4a-bc83-ea62f066cd1e",
    "execution": {
     "iopub.execute_input": "2022-02-26T10:51:51.353979Z",
     "iopub.status.busy": "2022-02-26T10:51:51.353128Z",
     "iopub.status.idle": "2022-02-26T10:51:51.355275Z",
     "shell.execute_reply": "2022-02-26T10:51:51.355691Z",
     "shell.execute_reply.started": "2022-02-26T08:55:48.993810Z"
    },
    "jupyter": {
     "outputs_hidden": false
    },
    "papermill": {
     "duration": 0.024911,
     "end_time": "2022-02-26T10:51:51.355841",
     "exception": false,
     "start_time": "2022-02-26T10:51:51.330930",
     "status": "completed"
    },
    "tags": []
   },
   "outputs": [],
   "source": [
    "file_path = (train_df['path_new_final'].values).tolist()"
   ]
  },
  {
   "cell_type": "code",
   "execution_count": 8,
   "id": "outer-scott",
   "metadata": {
    "_cell_guid": "f5cf96ef-56ed-4fda-b1f7-8e7b87eba042",
    "_uuid": "55d764d8-b634-4b5c-b8f1-9827aa365ce5",
    "execution": {
     "iopub.execute_input": "2022-02-26T10:51:51.394770Z",
     "iopub.status.busy": "2022-02-26T10:51:51.394194Z",
     "iopub.status.idle": "2022-02-26T10:51:51.398145Z",
     "shell.execute_reply": "2022-02-26T10:51:51.397726Z",
     "shell.execute_reply.started": "2022-02-26T08:55:50.598306Z"
    },
    "jupyter": {
     "outputs_hidden": false
    },
    "papermill": {
     "duration": 0.024883,
     "end_time": "2022-02-26T10:51:51.398262",
     "exception": false,
     "start_time": "2022-02-26T10:51:51.373379",
     "status": "completed"
    },
    "tags": []
   },
   "outputs": [],
   "source": [
    "labels = train_df['labels'].values.tolist()"
   ]
  },
  {
   "cell_type": "code",
   "execution_count": 9,
   "id": "hairy-reform",
   "metadata": {
    "_cell_guid": "599fa693-ff84-43be-803b-55ae1feded58",
    "_uuid": "b7389ee3-311f-433c-b09c-2438baec86c6",
    "execution": {
     "iopub.execute_input": "2022-02-26T10:51:51.439806Z",
     "iopub.status.busy": "2022-02-26T10:51:51.439048Z",
     "iopub.status.idle": "2022-02-26T10:51:51.442858Z",
     "shell.execute_reply": "2022-02-26T10:51:51.442328Z",
     "shell.execute_reply.started": "2022-02-26T08:55:50.749746Z"
    },
    "jupyter": {
     "outputs_hidden": false
    },
    "papermill": {
     "duration": 0.027347,
     "end_time": "2022-02-26T10:51:51.442994",
     "exception": false,
     "start_time": "2022-02-26T10:51:51.415647",
     "status": "completed"
    },
    "tags": []
   },
   "outputs": [],
   "source": [
    "from sklearn.preprocessing import LabelEncoder\n",
    "le = LabelEncoder()\n",
    "labels = le.fit_transform(labels)"
   ]
  },
  {
   "cell_type": "code",
   "execution_count": 10,
   "id": "satisfactory-massachusetts",
   "metadata": {
    "_cell_guid": "6544dc59-f49b-490a-8daf-9343ff2d22a7",
    "_uuid": "445168d3-2edc-4635-a0ab-2a4cb155e316",
    "execution": {
     "iopub.execute_input": "2022-02-26T10:51:51.484719Z",
     "iopub.status.busy": "2022-02-26T10:51:51.483948Z",
     "iopub.status.idle": "2022-02-26T10:51:51.486978Z",
     "shell.execute_reply": "2022-02-26T10:51:51.486326Z",
     "shell.execute_reply.started": "2022-02-26T08:55:50.889695Z"
    },
    "jupyter": {
     "outputs_hidden": false
    },
    "papermill": {
     "duration": 0.024711,
     "end_time": "2022-02-26T10:51:51.487096",
     "exception": false,
     "start_time": "2022-02-26T10:51:51.462385",
     "status": "completed"
    },
    "tags": []
   },
   "outputs": [],
   "source": [
    "labels = labels.tolist()"
   ]
  },
  {
   "cell_type": "code",
   "execution_count": 11,
   "id": "informed-correction",
   "metadata": {
    "_cell_guid": "7e9ed5f9-7931-4d08-9d75-30893133ab5e",
    "_uuid": "17b6f06e-ebcc-4a56-9c7f-1f39a385727a",
    "execution": {
     "iopub.execute_input": "2022-02-26T10:51:51.527427Z",
     "iopub.status.busy": "2022-02-26T10:51:51.526877Z",
     "iopub.status.idle": "2022-02-26T10:51:51.531733Z",
     "shell.execute_reply": "2022-02-26T10:51:51.531250Z",
     "shell.execute_reply.started": "2022-02-26T08:55:51.029480Z"
    },
    "jupyter": {
     "outputs_hidden": false
    },
    "papermill": {
     "duration": 0.027167,
     "end_time": "2022-02-26T10:51:51.531881",
     "exception": false,
     "start_time": "2022-02-26T10:51:51.504714",
     "status": "completed"
    },
    "tags": []
   },
   "outputs": [],
   "source": [
    "labels = tf.keras.utils.to_categorical(labels)"
   ]
  },
  {
   "cell_type": "code",
   "execution_count": 12,
   "id": "played-connectivity",
   "metadata": {
    "_cell_guid": "ba001456-5da3-4960-8bb5-bae36f37ca68",
    "_uuid": "92de3aa4-7c8b-4ad2-9007-c12b04b8e73f",
    "execution": {
     "iopub.execute_input": "2022-02-26T10:51:51.589401Z",
     "iopub.status.busy": "2022-02-26T10:51:51.588484Z",
     "iopub.status.idle": "2022-02-26T10:51:51.591323Z",
     "shell.execute_reply": "2022-02-26T10:51:51.590867Z",
     "shell.execute_reply.started": "2022-02-26T08:56:02.180416Z"
    },
    "jupyter": {
     "outputs_hidden": false
    },
    "papermill": {
     "duration": 0.041224,
     "end_time": "2022-02-26T10:51:51.591500",
     "exception": false,
     "start_time": "2022-02-26T10:51:51.550276",
     "status": "completed"
    },
    "tags": []
   },
   "outputs": [],
   "source": [
    "IMG_SIZE = 224\n",
    "\n",
    "class Model(tf.Module):\n",
    "\n",
    "  def __init__(self):\n",
    "    \n",
    "    self.model = tf.keras.Sequential([tf.keras.layers.Conv2D(32,kernel_size=(3,3),activation=\"relu\",input_shape=(224,224,3)),\n",
    "                     tf.keras.layers.Conv2D(64,(3,3),activation=\"relu\"),\n",
    "                     tf.keras.layers.MaxPooling2D(pool_size = (2,2)),\n",
    "                     tf.keras.layers.Dropout(0.25),\n",
    "                     tf.keras.layers.Conv2D(64,(3,3),activation=\"relu\"),\n",
    "                     tf.keras.layers.MaxPooling2D(pool_size=(2,2)),\n",
    "                     tf.keras.layers.Dropout(0.25),\n",
    "                     tf.keras.layers.Conv2D(128,(3,3),activation=\"relu\"),\n",
    "                     tf.keras.layers.MaxPooling2D(pool_size=(2,2)),\n",
    "                     tf.keras.layers.Dropout(0.25),\n",
    "                     tf.keras.layers.Conv2D(128,(3,3),activation=\"relu\"),\n",
    "                     tf.keras.layers.MaxPooling2D(pool_size=(2,2)),\n",
    "                     tf.keras.layers.Dropout(0.25),\n",
    "                     tf.keras.layers.Flatten(),\n",
    "                     tf.keras.layers.Dense(64,activation=\"relu\"),\n",
    "                     tf.keras.layers.Dense(2,activation=\"softmax\")])\n",
    "    \n",
    "    self.model.compile(loss=tf.keras.losses.CategoricalCrossentropy(from_logits=True), optimizer='adam')\n",
    "\n",
    "  # The `train` function takes a batch of input images and labels.\n",
    "  @tf.function(input_signature=[\n",
    "      tf.TensorSpec([None, IMG_SIZE, IMG_SIZE, 3], tf.float32),\n",
    "      tf.TensorSpec([None, 2], tf.float32),\n",
    "  ])\n",
    "  def train(self, x, y):\n",
    "    with tf.GradientTape() as tape:\n",
    "      prediction = self.model(x)\n",
    "      loss = self.model.loss(y, prediction)\n",
    "    gradients = tape.gradient(loss, self.model.trainable_variables)\n",
    "    self.model.optimizer.apply_gradients(\n",
    "        zip(gradients, self.model.trainable_variables))\n",
    "    result = {\"loss\": loss}\n",
    "    return result\n",
    "\n",
    "  @tf.function(input_signature=[\n",
    "      tf.TensorSpec([None, IMG_SIZE, IMG_SIZE, 3], tf.float32),\n",
    "  ])\n",
    "  def infer(self, x):\n",
    "    logits = self.model(x)\n",
    "    probabilities = tf.nn.softmax(logits, axis=-1)\n",
    "    return {\n",
    "        \"output\": probabilities,\n",
    "        \"logits\": logits\n",
    "    }\n",
    "\n",
    "  @tf.function(input_signature=[tf.TensorSpec(shape=[], dtype=tf.string)])\n",
    "  def save(self, checkpoint_path):\n",
    "    tensor_names = [weight.name for weight in self.model.weights]\n",
    "    tensors_to_save = [weight.read_value() for weight in self.model.weights]\n",
    "    tf.raw_ops.Save(\n",
    "        filename=checkpoint_path, tensor_names=tensor_names,\n",
    "        data=tensors_to_save, name='save')\n",
    "    return {\n",
    "        \"checkpoint_path\": checkpoint_path\n",
    "    }\n",
    "\n",
    "  @tf.function(input_signature=[tf.TensorSpec(shape=[], dtype=tf.string)])\n",
    "  def restore(self, checkpoint_path):\n",
    "    restored_tensors = {}\n",
    "    for var in self.model.weights:\n",
    "      restored = tf.raw_ops.Restore(\n",
    "          file_pattern=checkpoint_path, tensor_name=var.name, dt=var.dtype,\n",
    "          name='restore')\n",
    "      var.assign(restored)\n",
    "      restored_tensors[var.name] = restored\n",
    "    return restored_tensors"
   ]
  },
  {
   "cell_type": "code",
   "execution_count": 13,
   "id": "spanish-constitution",
   "metadata": {
    "_cell_guid": "2dab1e7b-2a14-4dcc-9b5a-9fde3605104a",
    "_uuid": "4f2da6e4-d25b-4aa8-b3c9-9c4488cfba9d",
    "execution": {
     "iopub.execute_input": "2022-02-26T10:51:51.632255Z",
     "iopub.status.busy": "2022-02-26T10:51:51.631708Z",
     "iopub.status.idle": "2022-02-26T10:51:53.772835Z",
     "shell.execute_reply": "2022-02-26T10:51:53.773284Z",
     "shell.execute_reply.started": "2022-02-26T08:56:05.510805Z"
    },
    "jupyter": {
     "outputs_hidden": false
    },
    "papermill": {
     "duration": 2.164267,
     "end_time": "2022-02-26T10:51:53.773476",
     "exception": false,
     "start_time": "2022-02-26T10:51:51.609209",
     "status": "completed"
    },
    "tags": []
   },
   "outputs": [],
   "source": [
    "NUM_EPOCHS = 10\n",
    "BATCH_SIZE = 512\n",
    "epochs = np.arange(1, NUM_EPOCHS + 1, 1)\n",
    "losses = np.zeros([NUM_EPOCHS])\n",
    "m = Model()\n",
    "\n",
    "filenames = tf.constant(file_path)\n",
    "labels =  tf.cast(labels, tf.float32)\n",
    "\n",
    "train_ds = tf.data.Dataset.from_tensor_slices((filenames, labels))"
   ]
  },
  {
   "cell_type": "code",
   "execution_count": 14,
   "id": "mexican-anchor",
   "metadata": {
    "_cell_guid": "5b0525d4-9c0c-4ed9-ad45-7276ae8d1f5d",
    "_uuid": "a9a0de26-6e25-4ac2-b489-7387a66c5c54",
    "execution": {
     "iopub.execute_input": "2022-02-26T10:51:53.817020Z",
     "iopub.status.busy": "2022-02-26T10:51:53.816204Z",
     "iopub.status.idle": "2022-02-26T10:51:53.905236Z",
     "shell.execute_reply": "2022-02-26T10:51:53.904713Z",
     "shell.execute_reply.started": "2022-02-26T08:56:05.986640Z"
    },
    "jupyter": {
     "outputs_hidden": false
    },
    "papermill": {
     "duration": 0.113379,
     "end_time": "2022-02-26T10:51:53.905418",
     "exception": false,
     "start_time": "2022-02-26T10:51:53.792039",
     "status": "completed"
    },
    "tags": []
   },
   "outputs": [],
   "source": [
    "def _parse_function(filename, label):\n",
    "    image_string = tf.io.read_file(filename)\n",
    "    image_decoded = tf.io.decode_image(image_string, channels=3, expand_animations = False)\n",
    "    image = tf.cast(image_decoded, tf.float32)\n",
    "    image = tf.image.resize(image, [224, 224])\n",
    "    return image, label\n",
    "\n",
    "train_ds = train_ds.map(_parse_function)\n",
    "train_ds = train_ds.shuffle(64)\n",
    "train_ds = train_ds.batch(64)"
   ]
  },
  {
   "cell_type": "code",
   "execution_count": 15,
   "id": "pleasant-moses",
   "metadata": {
    "_cell_guid": "a329383f-a3b8-41a3-804c-7d0cd1eba754",
    "_uuid": "113879a4-f03e-43ff-a1e3-5281e606bb82",
    "execution": {
     "iopub.execute_input": "2022-02-26T10:51:53.946185Z",
     "iopub.status.busy": "2022-02-26T10:51:53.945622Z",
     "iopub.status.idle": "2022-02-26T11:08:32.390318Z",
     "shell.execute_reply": "2022-02-26T11:08:32.389898Z",
     "shell.execute_reply.started": "2022-02-26T08:56:11.166775Z"
    },
    "jupyter": {
     "outputs_hidden": false
    },
    "papermill": {
     "duration": 998.467061,
     "end_time": "2022-02-26T11:08:32.390485",
     "exception": false,
     "start_time": "2022-02-26T10:51:53.923424",
     "status": "completed"
    },
    "tags": []
   },
   "outputs": [
    {
     "name": "stderr",
     "output_type": "stream",
     "text": [
      "  0%|          | 0/48 [00:00<?, ?it/s]"
     ]
    },
    {
     "name": "stdout",
     "output_type": "stream",
     "text": [
      "Epoch:  0\n"
     ]
    },
    {
     "name": "stderr",
     "output_type": "stream",
     "text": [
      "100%|██████████| 48/48 [02:14<00:00,  2.80s/it]\n",
      "  0%|          | 0/48 [00:00<?, ?it/s]"
     ]
    },
    {
     "name": "stdout",
     "output_type": "stream",
     "text": [
      "  loss: 0.693\n",
      "Epoch:  1\n"
     ]
    },
    {
     "name": "stderr",
     "output_type": "stream",
     "text": [
      "100%|██████████| 48/48 [01:35<00:00,  2.00s/it]\n",
      "  0%|          | 0/48 [00:00<?, ?it/s]"
     ]
    },
    {
     "name": "stdout",
     "output_type": "stream",
     "text": [
      "  loss: 0.256\n",
      "Epoch:  2\n"
     ]
    },
    {
     "name": "stderr",
     "output_type": "stream",
     "text": [
      "100%|██████████| 48/48 [01:35<00:00,  1.99s/it]\n",
      "  0%|          | 0/48 [00:00<?, ?it/s]"
     ]
    },
    {
     "name": "stdout",
     "output_type": "stream",
     "text": [
      "  loss: 0.410\n",
      "Epoch:  3\n"
     ]
    },
    {
     "name": "stderr",
     "output_type": "stream",
     "text": [
      "100%|██████████| 48/48 [01:35<00:00,  1.99s/it]\n",
      "  0%|          | 0/48 [00:00<?, ?it/s]"
     ]
    },
    {
     "name": "stdout",
     "output_type": "stream",
     "text": [
      "  loss: 0.130\n",
      "Epoch:  4\n"
     ]
    },
    {
     "name": "stderr",
     "output_type": "stream",
     "text": [
      "100%|██████████| 48/48 [01:39<00:00,  2.07s/it]\n",
      "  0%|          | 0/48 [00:00<?, ?it/s]"
     ]
    },
    {
     "name": "stdout",
     "output_type": "stream",
     "text": [
      "  loss: 0.215\n",
      "Epoch:  5\n"
     ]
    },
    {
     "name": "stderr",
     "output_type": "stream",
     "text": [
      "100%|██████████| 48/48 [01:37<00:00,  2.03s/it]\n",
      "  0%|          | 0/48 [00:00<?, ?it/s]"
     ]
    },
    {
     "name": "stdout",
     "output_type": "stream",
     "text": [
      "  loss: 0.101\n",
      "Epoch:  6\n"
     ]
    },
    {
     "name": "stderr",
     "output_type": "stream",
     "text": [
      "100%|██████████| 48/48 [01:34<00:00,  1.98s/it]\n",
      "  0%|          | 0/48 [00:00<?, ?it/s]"
     ]
    },
    {
     "name": "stdout",
     "output_type": "stream",
     "text": [
      "  loss: 0.185\n",
      "Epoch:  7\n"
     ]
    },
    {
     "name": "stderr",
     "output_type": "stream",
     "text": [
      "100%|██████████| 48/48 [01:35<00:00,  1.98s/it]\n",
      "  0%|          | 0/48 [00:00<?, ?it/s]"
     ]
    },
    {
     "name": "stdout",
     "output_type": "stream",
     "text": [
      "  loss: 0.029\n",
      "Epoch:  8\n"
     ]
    },
    {
     "name": "stderr",
     "output_type": "stream",
     "text": [
      "100%|██████████| 48/48 [01:35<00:00,  1.99s/it]\n",
      "  0%|          | 0/48 [00:00<?, ?it/s]"
     ]
    },
    {
     "name": "stdout",
     "output_type": "stream",
     "text": [
      "  loss: 0.054\n",
      "Epoch:  9\n"
     ]
    },
    {
     "name": "stderr",
     "output_type": "stream",
     "text": [
      "100%|██████████| 48/48 [01:35<00:00,  1.98s/it]"
     ]
    },
    {
     "name": "stdout",
     "output_type": "stream",
     "text": [
      "  loss: 0.162\n",
      "Finished 10 epochs\n"
     ]
    },
    {
     "name": "stderr",
     "output_type": "stream",
     "text": [
      "\n"
     ]
    }
   ],
   "source": [
    "for i in range(NUM_EPOCHS):\n",
    "  print (\"Epoch: \", i)\n",
    "  for x,y in tqdm(train_ds):\n",
    "    result = m.train(x, y)\n",
    "\n",
    "  losses[i] = result['loss']\n",
    "  print(f\"  loss: {losses[i]:.3f}\")\n",
    "  if (i + 1) % 10 == 0:\n",
    "    print(f\"Finished {i+1} epochs\")"
   ]
  },
  {
   "cell_type": "code",
   "execution_count": 16,
   "id": "national-freeware",
   "metadata": {
    "_cell_guid": "94239131-6043-4810-baed-ed6ca24dc645",
    "_uuid": "74dd1998-c67f-4112-8c0b-e551eb6bc392",
    "execution": {
     "iopub.execute_input": "2022-02-26T11:08:32.702338Z",
     "iopub.status.busy": "2022-02-26T11:08:32.701690Z",
     "iopub.status.idle": "2022-02-26T11:08:32.849604Z",
     "shell.execute_reply": "2022-02-26T11:08:32.849153Z",
     "shell.execute_reply.started": "2022-02-26T10:50:27.736991Z"
    },
    "jupyter": {
     "outputs_hidden": false
    },
    "papermill": {
     "duration": 0.314804,
     "end_time": "2022-02-26T11:08:32.849732",
     "exception": false,
     "start_time": "2022-02-26T11:08:32.534928",
     "status": "completed"
    },
    "tags": []
   },
   "outputs": [
    {
     "data": {
      "text/plain": [
       "<matplotlib.legend.Legend at 0x7f88485db9d0>"
      ]
     },
     "execution_count": 16,
     "metadata": {},
     "output_type": "execute_result"
    },
    {
     "data": {
      "image/png": "[encoded data removed]",
      "text/plain": [
       "<Figure size 432x288 with 1 Axes>"
      ]
     },
     "metadata": {
      "needs_background": "light"
     },
     "output_type": "display_data"
    }
   ],
   "source": [
    "plt.plot(epochs, losses, label='Pre-training')\n",
    "plt.ylim([0, max(plt.ylim())])\n",
    "plt.xlabel('Epoch')\n",
    "plt.ylabel('Loss [Cross Entropy]')\n",
    "plt.legend()"
   ]
  },
  {
   "cell_type": "code",
   "execution_count": 17,
   "id": "dress-occasion",
   "metadata": {
    "_cell_guid": "922d87ab-7600-44ac-93d1-ecb292ad74a7",
    "_uuid": "3bd6e837-c358-4740-8891-dd646508d449",
    "execution": {
     "iopub.execute_input": "2022-02-26T11:08:33.166919Z",
     "iopub.status.busy": "2022-02-26T11:08:33.166017Z",
     "iopub.status.idle": "2022-02-26T11:08:35.814284Z",
     "shell.execute_reply": "2022-02-26T11:08:35.813755Z",
     "shell.execute_reply.started": "2022-02-26T10:50:27.900565Z"
    },
    "jupyter": {
     "outputs_hidden": false
    },
    "papermill": {
     "duration": 2.818384,
     "end_time": "2022-02-26T11:08:35.814434",
     "exception": false,
     "start_time": "2022-02-26T11:08:32.996050",
     "status": "completed"
    },
    "tags": []
   },
   "outputs": [],
   "source": [
    "m = Model()\n",
    "SAVED_MODEL_DIR = './saved_models/'\n",
    "tf.saved_model.save(\n",
    "    m,\n",
    "    SAVED_MODEL_DIR,\n",
    "    signatures={\n",
    "        'train':\n",
    "            m.train.get_concrete_function(),\n",
    "        'infer':\n",
    "            m.infer.get_concrete_function(),\n",
    "        'save':\n",
    "            m.save.get_concrete_function(),\n",
    "        'restore':\n",
    "            m.restore.get_concrete_function(),\n",
    "    })"
   ]
  },
  {
   "cell_type": "code",
   "execution_count": null,
   "id": "measured-pitch",
   "metadata": {
    "_cell_guid": "4663c7a5-dcf9-4125-b6f1-2de0503cd320",
    "_uuid": "cd66f44d-299d-4fba-a873-2b2e8f69da1e",
    "execution": {
     "iopub.execute_input": "2022-02-26T11:08:36.153197Z",
     "iopub.status.busy": "2022-02-26T11:08:36.152214Z",
     "iopub.status.idle": "2022-02-26T11:08:37.443680Z",
     "shell.execute_reply": "2022-02-26T11:08:37.443052Z",
     "shell.execute_reply.started": "2022-02-26T10:50:30.819970Z"
    },
    "jupyter": {
     "outputs_hidden": false
    },
    "papermill": {
     "duration": 1.484065,
     "end_time": "2022-02-26T11:08:37.443926",
     "exception": true,
     "start_time": "2022-02-26T11:08:35.959861",
     "status": "failed"
    },
    "tags": []
   },
   "outputs": [],
   "source": [
    "converter = tf.lite.TFLiteConverter.from_saved_model(SAVED_MODEL_DIR)\n",
    "converter.target_spec.supported_ops = [\n",
    "    tf.lite.OpsSet.TFLITE_BUILTINS,  # enable TensorFlow Lite ops.\n",
    "    tf.lite.OpsSet.SELECT_TF_OPS  # enable TensorFlow ops.\n",
    "]\n",
    "converter.experimental_enable_resource_variables = True\n",
    "tflite_model = converter.convert()"
   ]
  },
  {
   "cell_type": "code",
   "execution_count": null,
   "id": "serious-fetish",
   "metadata": {
    "_cell_guid": "5a6100f3-7ae9-4537-9d9f-b23001b7447d",
    "_uuid": "4d5565b6-b95e-487c-9bc4-90541c716bb5",
    "execution": {
     "iopub.execute_input": "2022-02-26T10:50:33.564615Z",
     "iopub.status.busy": "2022-02-26T10:50:33.564248Z",
     "iopub.status.idle": "2022-02-26T10:50:33.579381Z",
     "shell.execute_reply": "2022-02-26T10:50:33.578621Z",
     "shell.execute_reply.started": "2022-02-26T10:50:33.564579Z"
    },
    "jupyter": {
     "outputs_hidden": false
    },
    "papermill": {
     "duration": null,
     "end_time": null,
     "exception": null,
     "start_time": null,
     "status": "pending"
    },
    "tags": []
   },
   "outputs": [],
   "source": [
    "# Save the model.\n",
    "with open('covid_19_detect_model.tflite', 'wb') as f:\n",
    "  f.write(tflite_model)"
   ]
  },
  {
   "cell_type": "code",
   "execution_count": null,
   "id": "olive-atlanta",
   "metadata": {
    "_cell_guid": "efbf3624-df46-4def-8022-e564a29d0391",
    "_uuid": "5fbae935-e250-4183-9c92-4a08a94412e1",
    "jupyter": {
     "outputs_hidden": false
    },
    "papermill": {
     "duration": null,
     "end_time": null,
     "exception": null,
     "start_time": null,
     "status": "pending"
    },
    "tags": []
   },
   "outputs": [],
   "source": []
  }
 ],
 "metadata": {
  "kernelspec": {
   "display_name": "Python 3 (ipykernel)",
   "language": "python",
   "name": "python3"
  },
  "language_info": {
   "codemirror_mode": {
    "name": "ipython",
    "version": 3
   },
   "file_extension": ".py",
   "mimetype": "text/x-python",
   "name": "python",
   "nbconvert_exporter": "python",
   "pygments_lexer": "ipython3",
   "version": "3.8.12"
  },
  "papermill": {
   "default_parameters": {},
   "duration": 1020.951781,
   "end_time": "2022-02-26T11:08:39.637579",
   "environment_variables": {},
   "exception": true,
   "input_path": "__notebook__.ipynb",
   "output_path": "__notebook__.ipynb",
   "parameters": {},
   "start_time": "2022-02-26T10:51:38.685798",
   "version": "2.3.3"
  }
 },
 "nbformat": 4,
 "nbformat_minor": 5
}
